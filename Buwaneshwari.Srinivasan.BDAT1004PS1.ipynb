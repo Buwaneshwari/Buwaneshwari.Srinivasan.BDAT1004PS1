{
 "cells": [
  {
   "cell_type": "markdown",
   "id": "a023edc1",
   "metadata": {},
   "source": [
    "## PROBLEM SET 1"
   ]
  },
  {
   "cell_type": "markdown",
   "id": "c7fe1951",
   "metadata": {},
   "source": [
    "## Question 1\n",
    "### What data type is each of the following (evaluate where necessary)?"
   ]
  },
  {
   "cell_type": "code",
   "execution_count": 18,
   "id": "dd72b7fc",
   "metadata": {
    "scrolled": true
   },
   "outputs": [
    {
     "name": "stdout",
     "output_type": "stream",
     "text": [
      "5\n",
      "The data type of above output is =  <class 'int'>\n",
      "5.0\n",
      "The data type of above output is =  <class 'float'>\n",
      "True\n",
      "The data type of above output is =  <class 'bool'>\n",
      "5\n",
      "The data type of above output is =  <class 'str'>\n",
      "10\n",
      "The data type of above output is =  <class 'int'>\n",
      "55\n",
      "The data type of above output is =  <class 'str'>\n",
      "52\n",
      "The data type of above output is =  <class 'str'>\n",
      "2.5\n",
      "The data type of above output is =  <class 'float'>\n",
      "1\n",
      "The data type of above output is =  <class 'int'>\n",
      "{1, 2, 5}\n",
      "The data type of above output is =  <class 'set'>\n",
      "False\n",
      "The data type of above output is =  <class 'bool'>\n",
      "3.141592653589793\n",
      "The data type of above output is =  <class 'float'>\n"
     ]
    }
   ],
   "source": [
    "a = 5\n",
    "b = 5.0\n",
    "c = 5 > 1\n",
    "d = '5'\n",
    "e = 5 * 2\n",
    "f = '5' * 2\n",
    "g = '5' + '2'\n",
    "h = 5 / 2\n",
    "i = 5 % 2\n",
    "j = {5, 2, 1}\n",
    "k = 5 == 3\n",
    "import math #math module is a library of mathematical functions and constants\n",
    "l = math.pi\n",
    "\n",
    "print(a)\n",
    "print(\"The data type of above output is = \", type(a))\n",
    "\n",
    "print(b)\n",
    "print(\"The data type of above output is = \", type(b))\n",
    "\n",
    "print(c)\n",
    "print(\"The data type of above output is = \", type(c))\n",
    "\n",
    "print(d)\n",
    "print(\"The data type of above output is = \", type(d))\n",
    "\n",
    "print(e)\n",
    "print(\"The data type of above output is = \", type(e))\n",
    "\n",
    "print(f)\n",
    "print(\"The data type of above output is = \", type(f))\n",
    "\n",
    "print(g)\n",
    "print(\"The data type of above output is = \", type(g))\n",
    "\n",
    "print(h)\n",
    "print(\"The data type of above output is = \", type(h))\n",
    "\n",
    "print(i)\n",
    "print(\"The data type of above output is = \", type(i))\n",
    "\n",
    "print(j)\n",
    "print(\"The data type of above output is = \", type(j))\n",
    "\n",
    "print(k)\n",
    "print(\"The data type of above output is = \", type(k))\n",
    "\n",
    "print(l)\n",
    "print(\"The data type of above output is = \", type(l))"
   ]
  },
  {
   "cell_type": "markdown",
   "id": "f8417c49",
   "metadata": {},
   "source": [
    "## Question 2\n",
    "### Write (and evaluate) python expressions that answer these questions:\n",
    "### a. How many letters are there in 'Supercalifragilisticexpialidocious'?"
   ]
  },
  {
   "cell_type": "code",
   "execution_count": 19,
   "id": "69072ed8",
   "metadata": {},
   "outputs": [
    {
     "name": "stdout",
     "output_type": "stream",
     "text": [
      " No.of Letters in given string is =  34\n"
     ]
    }
   ],
   "source": [
    "str = 'Supercalifragilisticexpialidocious'\n",
    "n = len('Supercalifragilisticexpialidocious')\n",
    "print(\" No.of Letters in given string is = \",n)"
   ]
  },
  {
   "cell_type": "markdown",
   "id": "9d81b170",
   "metadata": {},
   "source": [
    "### b. Does 'Supercalifragilisticexpialidocious' contain 'ice' as a substring?"
   ]
  },
  {
   "cell_type": "code",
   "execution_count": 23,
   "id": "e0c1e74f",
   "metadata": {},
   "outputs": [
    {
     "name": "stdout",
     "output_type": "stream",
     "text": [
      " Is string2 is present in string1 =  True\n"
     ]
    }
   ],
   "source": [
    "string1 =  'Supercalifragilisticexpialidocious' \n",
    "string2 =   'ice'\n",
    "print(\" Is string2 is present in string1 = \", string2 in string1)"
   ]
  },
  {
   "cell_type": "markdown",
   "id": "ecb84f4f",
   "metadata": {},
   "source": [
    "### c. Which of the following words is the longest: Supercalifragilisticexpialidocious, Honorificabilitudinitatibus, or Bababadalgharaghtakamminarronnkonn"
   ]
  },
  {
   "cell_type": "code",
   "execution_count": 30,
   "id": "5f097db6",
   "metadata": {},
   "outputs": [
    {
     "name": "stdout",
     "output_type": "stream",
     "text": [
      "The Longest word is :  Supercalifragilisticexpialidocious\n"
     ]
    }
   ],
   "source": [
    "words = ['Supercalifragilisticexpialidocious', 'Honorificabilitudinitatibus', 'Bababadalgharaghtakamminarronnkonn']\n",
    "\n",
    "longest_word = words[0]\n",
    "\n",
    "for word in words:\n",
    "    if len(word) > len(longest_word):\n",
    "        longest_word = word\n",
    "\n",
    "print(\"The Longest word is : \",longest_word)"
   ]
  },
  {
   "cell_type": "markdown",
   "id": "cdc2250a",
   "metadata": {},
   "source": [
    "### d. Which composer comes first in the dictionary: 'Berlioz', 'Borodin', 'Brian','Bartok', 'Bellini', 'Buxtehude', 'Bernstein'. Which one comes last?"
   ]
  },
  {
   "cell_type": "code",
   "execution_count": 1,
   "id": "9e5c5e78",
   "metadata": {},
   "outputs": [
    {
     "name": "stdout",
     "output_type": "stream",
     "text": [
      "First composer in the dictionary: Bartok\n",
      "Last composer in the dictionary: Buxtehude\n"
     ]
    }
   ],
   "source": [
    "composers = ['Berlioz', 'Borodin', 'Brian', 'Bartok', 'Bellini', 'Buxtehude', 'Bernstein']\n",
    "\n",
    "first_composer = composers[0]\n",
    "last_composer = composers[0]\n",
    "\n",
    "for composer in composers:\n",
    "    if composer < first_composer:\n",
    "        first_composer = composer\n",
    "    if composer > last_composer:\n",
    "        last_composer = composer\n",
    "\n",
    "print(\"First composer in the dictionary:\", first_composer)\n",
    "print(\"Last composer in the dictionary:\", last_composer)"
   ]
  },
  {
   "cell_type": "markdown",
   "id": "a98b1be5",
   "metadata": {},
   "source": [
    "## Question 3 \n",
    "### Implement function triangleArea(a,b,c) that takes as input the lengths of the 3 sides of a triangle and returns the area of the triangle. By Heron's formula, the area of a triangle with side lengths a, b, and c is s(s - a)(s -b)(s -c), where s = (a +b + c) /2.  >>> triangleArea(2,2,2) 1.7320508075688772"
   ]
  },
  {
   "cell_type": "code",
   "execution_count": 2,
   "id": "3f22e121",
   "metadata": {},
   "outputs": [
    {
     "name": "stdout",
     "output_type": "stream",
     "text": [
      "Area of triangle =  1.7320508075688772\n"
     ]
    }
   ],
   "source": [
    "import math\n",
    "\n",
    "def triangleArea(a, b, c):\n",
    "    # semi-perimeter of triangle\n",
    "    s = (a + b + c) / 2\n",
    "    \n",
    "    # Heron's formula\n",
    "    area = math.sqrt(s * (s - a) * (s - b) * (s - c))\n",
    "    \n",
    "    return area\n",
    "\n",
    "print(\"Area of triangle = \",triangleArea(2, 2, 2))"
   ]
  },
  {
   "cell_type": "markdown",
   "id": "a63aa5d5",
   "metadata": {},
   "source": [
    "## Question 4\n",
    "### Write a program in python to separate odd and even integers in separate arrays."
   ]
  },
  {
   "cell_type": "code",
   "execution_count": 3,
   "id": "61471250",
   "metadata": {},
   "outputs": [
    {
     "name": "stdout",
     "output_type": "stream",
     "text": [
      "Input the number of elements to be stored in the array: 5\n",
      "element - 0 : 25\n",
      "element - 1 : 47\n",
      "element - 2 : 42\n",
      "element - 3 : 56\n",
      "element - 4 : 32\n",
      "The Even elements are:\n",
      "42 56 32 \n",
      "The Odd elements are:\n",
      "25 47 "
     ]
    }
   ],
   "source": [
    "def odd_even_separation(numbers):\n",
    "    even_numbers = []\n",
    "    odd_numbers = []\n",
    "\n",
    "    for num in numbers:\n",
    "        if num % 2 == 0:\n",
    "            even_numbers.append(num)\n",
    "        else:\n",
    "            odd_numbers.append(num)\n",
    "\n",
    "    return even_numbers, odd_numbers\n",
    "\n",
    "\n",
    "num_of_elements = int(input(\"Input the number of elements to be stored in the array: \"))\n",
    "\n",
    "numbers = []\n",
    "for i in range(num_of_elements):\n",
    "    element = int(input(f\"element - {i} : \"))\n",
    "    numbers.append(element)\n",
    "\n",
    "even_numbers, odd_numbers = odd_even_separation(numbers)\n",
    "\n",
    "print(\"The Even elements are:\")\n",
    "for num in even_numbers:\n",
    "    print(num, end=\" \")\n",
    "\n",
    "    print(\"\\nThe Odd elements are:\")\n",
    "for num in odd_numbers:\n",
    "    print(num, end=\" \")"
   ]
  },
  {
   "cell_type": "markdown",
   "id": "9d3ee648",
   "metadata": {},
   "source": [
    "## Question 5\n",
    "### a. Write a function inside(x,y,x1,y1,x2,y2) that returns True or False depending on whether the point (x,y) lies in the rectangle with lower left corner (x1,y1) and upper right corner (x2,y2).>>> inside(1,1,0,0,2,3) True >>> inside(-1,-1,0,0,2,3)False"
   ]
  },
  {
   "cell_type": "code",
   "execution_count": 6,
   "id": "a6d1681b",
   "metadata": {},
   "outputs": [
    {
     "name": "stdout",
     "output_type": "stream",
     "text": [
      "point lying inside ? True\n",
      "point lying inside ? False\n"
     ]
    }
   ],
   "source": [
    "def inside(x, y, x1, y1, x2, y2):\n",
    "    return x1 <= x <= x2 and y1 <= y <= y2\n",
    "\n",
    "print(\"point lying inside ?\", inside(1, 1, 0, 0, 2, 3))  \n",
    "print(\"point lying inside ?\",inside(-1, -1, 0, 0, 2, 3))    \n"
   ]
  },
  {
   "cell_type": "markdown",
   "id": "175659c7",
   "metadata": {},
   "source": [
    "### b. Use function inside() from part a. to write an expression that tests whether the point (1,1) lies in both of the following rectangles: one with lower left corner (0.3, 0.5) and upper right corner (1.1, 0.7) and the other with lower left corner (0.5, 0.2) and upper right corner (1.1, 2)."
   ]
  },
  {
   "cell_type": "code",
   "execution_count": 7,
   "id": "2b8c0d14",
   "metadata": {},
   "outputs": [
    {
     "name": "stdout",
     "output_type": "stream",
     "text": [
      "Point lies in both rectangles ? False\n"
     ]
    }
   ],
   "source": [
    "a, b = 1, 1\n",
    "\n",
    "a1_r1, b1_r1, a2_r1, b2_r1 = 0.3, 0.5, 1.1, 0.7\n",
    "\n",
    "a1_r2, b1_r2, a2_r2, b2_r2 = 0.5, 0.2, 1.1, 2\n",
    "\n",
    "point_inside_both = inside(a, b, a1_r1, b1_r1, a2_r1, b2_r1) and inside(a, b, a1_r2, b1_r2, a2_r2, b2_r2)\n",
    "\n",
    "print(\"Point lies in both rectangles ?\",point_inside_both)  "
   ]
  },
  {
   "cell_type": "markdown",
   "id": "3ffddf10",
   "metadata": {},
   "source": [
    "## Question 6\n",
    "### You can turn a word into pig-Latin"
   ]
  },
  {
   "cell_type": "code",
   "execution_count": 25,
   "id": "229d6841",
   "metadata": {},
   "outputs": [
    {
     "name": "stdout",
     "output_type": "stream",
     "text": [
      "happy turned into :  appyhay\n",
      "Enter turned into :  enterway\n"
     ]
    }
   ],
   "source": [
    "def pig(word):\n",
    "    \n",
    "    vowels = 'aeiou'\n",
    "    \n",
    "    word = word.lower()\n",
    "    \n",
    "    if word[0] in vowels:\n",
    "        return word + 'way'\n",
    "    else:\n",
    "        return word[1:] + word[0] + 'ay'\n",
    "\n",
    "print(\"happy turned into : \",pig('happy'))  \n",
    "print(\"Enter turned into : \",pig('Enter')) "
   ]
  },
  {
   "cell_type": "markdown",
   "id": "89b08c41",
   "metadata": {},
   "source": [
    "## Question 7\n",
    "### Reporting how many patients there are in each bloodtype using given dataset"
   ]
  },
  {
   "cell_type": "code",
   "execution_count": 12,
   "id": "784dd875",
   "metadata": {},
   "outputs": [
    {
     "name": "stdout",
     "output_type": "stream",
     "text": [
      "There are 15 patients of blood type A.\n",
      "There is one patient of blood type B.\n",
      "There are 13 patients of blood type AB.\n",
      "There are 15 patients of blood type O.\n",
      "There are no patients of blood type 00.\n"
     ]
    }
   ],
   "source": [
    "def bldcount(filename):\n",
    "    blood_types = ['A', 'B', 'AB', 'O', '00']\n",
    "    blood_counts = {}\n",
    "    \n",
    "    for blood_type in blood_types:\n",
    "        blood_counts[blood_type] = 0\n",
    "\n",
    "    with open(filename, 'r') as file:\n",
    "        content = file.read().split()\n",
    "    \n",
    "    for blood in content:\n",
    "        if blood in blood_counts:\n",
    "            blood_counts[blood] += 1\n",
    "    \n",
    "    for blood_type in blood_types:\n",
    "        count = blood_counts[blood_type]\n",
    "        if count == 0:\n",
    "            print(f\"There are no patients of blood type {blood_type}.\")\n",
    "        elif count == 1:\n",
    "            print(f\"There is one patient of blood type {blood_type}.\")\n",
    "        else:\n",
    "            print(f\"There are {count} patients of blood type {blood_type}.\")\n",
    "            \n",
    "bldcount('bloodtype1.txt')\n"
   ]
  },
  {
   "cell_type": "markdown",
   "id": "9beeab0f",
   "metadata": {},
   "source": [
    "## Question 8\n",
    "### Write a function curconv() that takes as input:\n",
    "### 1. a currency represented using a string (e.g., 'JPY' for the Japanese Yen or 'EUR' for the Euro)\n",
    "### 2. an amount and then converts and returns the amount in US dollars."
   ]
  },
  {
   "cell_type": "code",
   "execution_count": 23,
   "id": "4b65c1a7",
   "metadata": {},
   "outputs": [
    {
     "name": "stdout",
     "output_type": "stream",
     "text": [
      "Amount in USD :  122.96544\n",
      "Amount in USD :  1.241401\n"
     ]
    }
   ],
   "source": [
    "def curconv(currency, amount):\n",
    "    rates = {}\n",
    "    \n",
    "    with open('currencies.txt', 'r') as file:\n",
    "        for line in file:\n",
    "            parts = line.split()\n",
    "            currency_code = parts[0]\n",
    "            rate = float(parts[1])\n",
    "            rates[currency_code] = rate\n",
    "    \n",
    "    if currency in rates:\n",
    "        conversion_rate = rates[currency]\n",
    "        converted_amount = amount * conversion_rate \n",
    "        return converted_amount\n",
    "    else:\n",
    "        raise ValueError(\"Currency not found\")\n",
    "        \n",
    "\n",
    "print(\"Amount in USD : \",curconv('EUR', 100))   \n",
    "print(\"Amount in USD : \",curconv('JPY', 100))\n",
    "\n",
    "\n"
   ]
  },
  {
   "cell_type": "markdown",
   "id": "818eca47",
   "metadata": {},
   "source": [
    "## Question 9\n",
    "### Each of the following will cause an exception (an error). Identify what type of exception each will cause."
   ]
  },
  {
   "cell_type": "markdown",
   "id": "ca41bcc1",
   "metadata": {},
   "source": [
    "### Trying to add incompatible variables, as in adding 6 + ‘a’"
   ]
  },
  {
   "cell_type": "code",
   "execution_count": 32,
   "id": "d0360c13",
   "metadata": {},
   "outputs": [
    {
     "name": "stdout",
     "output_type": "stream",
     "text": [
      "TypeError: unsupported operand type(s) for +: 'int' and 'str'\n"
     ]
    }
   ],
   "source": [
    "try:\n",
    "    output = 6 + 'a'\n",
    "except TypeError as e:\n",
    "    print(f\"TypeError: {e}\")"
   ]
  },
  {
   "cell_type": "markdown",
   "id": "3361447d",
   "metadata": {},
   "source": [
    "###### Exception type - TypeError: unsupported operand type(s) \n",
    "###### Reason - adding a integer type data with string type data is not supported"
   ]
  },
  {
   "cell_type": "markdown",
   "id": "47ad65f5",
   "metadata": {},
   "source": [
    "### Referring to the 12th item of a list that has only 10items"
   ]
  },
  {
   "cell_type": "code",
   "execution_count": 33,
   "id": "b2678c4b",
   "metadata": {},
   "outputs": [
    {
     "name": "stdout",
     "output_type": "stream",
     "text": [
      "IndexError: list index out of range\n"
     ]
    }
   ],
   "source": [
    "list = [1, 2, 3, 4, 5, 6, 7, 8, 9, 10]\n",
    "try:\n",
    "    item = list[12]\n",
    "except IndexError as e:\n",
    "    print(f\"IndexError: {e}\")"
   ]
  },
  {
   "cell_type": "markdown",
   "id": "a2bd64d6",
   "metadata": {},
   "source": [
    "##### Exception type - list index out of range\n",
    "##### Reason - There are only 10 items and there is no data in 12th index of the list ."
   ]
  },
  {
   "cell_type": "markdown",
   "id": "eed14df1",
   "metadata": {},
   "source": [
    "### Using a value that is out of range for a function’s input, such as calling math.sqrt( - 1.0)"
   ]
  },
  {
   "cell_type": "code",
   "execution_count": 35,
   "id": "0b86dad1",
   "metadata": {},
   "outputs": [
    {
     "name": "stdout",
     "output_type": "stream",
     "text": [
      "ValueError: math domain error\n"
     ]
    }
   ],
   "source": [
    "import math\n",
    "try:\n",
    "    output = math.sqrt(-1.0)\n",
    "except ValueError as e:\n",
    "    print(f\"ValueError: {e}\")"
   ]
  },
  {
   "cell_type": "markdown",
   "id": "f3e4a295",
   "metadata": {},
   "source": [
    "###### Exception type - ValueError: math domain error\n",
    "###### Reason - square root of negative integer throws an exception"
   ]
  },
  {
   "cell_type": "markdown",
   "id": "3c532bd0",
   "metadata": {},
   "source": [
    "### Using an undeclared variable, such as print(z) when z has not been defined"
   ]
  },
  {
   "cell_type": "code",
   "execution_count": 36,
   "id": "3002ee03",
   "metadata": {},
   "outputs": [
    {
     "name": "stdout",
     "output_type": "stream",
     "text": [
      "NameError: name 'x' is not defined\n"
     ]
    }
   ],
   "source": [
    "try:\n",
    "    print(x)\n",
    "except NameError as e:\n",
    "    print(f\"NameError: {e}\")"
   ]
  },
  {
   "cell_type": "markdown",
   "id": "05ca8564",
   "metadata": {},
   "source": [
    "##### Exception type - NameError: name 'x' is not defined\n",
    "##### Reason - The variable 'z' is not decalared anywhere."
   ]
  },
  {
   "cell_type": "markdown",
   "id": "4549fc84",
   "metadata": {},
   "source": [
    "### Trying to open a file that does not exist, such as mistyping the file name or looking in the wrong directory."
   ]
  },
  {
   "cell_type": "code",
   "execution_count": 37,
   "id": "c31a2718",
   "metadata": {},
   "outputs": [
    {
     "name": "stdout",
     "output_type": "stream",
     "text": [
      "FileNotFoundError: [Errno 2] No such file or directory: 'new_file.txt'\n"
     ]
    }
   ],
   "source": [
    "try:\n",
    "    with open('new_file.txt', 'r') as file:\n",
    "        content = file.read()\n",
    "except FileNotFoundError as e:\n",
    "    print(f\"FileNotFoundError: {e}\")\n"
   ]
  },
  {
   "cell_type": "markdown",
   "id": "19903f95",
   "metadata": {},
   "source": [
    "##### Exception type - FileNotFoundError: No such file or directory: 'new_file.txt'\n",
    "###### Reason - because the file called 'newfile.txt' doesn't exsist"
   ]
  },
  {
   "cell_type": "markdown",
   "id": "c05b4722",
   "metadata": {},
   "source": [
    "## Question 10\n",
    "### Number of times each character appears in the text"
   ]
  },
  {
   "cell_type": "code",
   "execution_count": 22,
   "id": "f67f1094",
   "metadata": {},
   "outputs": [
    {
     "name": "stdout",
     "output_type": "stream",
     "text": [
      " number of times each character appears in the text :  [1, 1, 1, 3, 5, 1, 1, 2, 1, 0, 1, 0, 1, 2, 4, 0, 1, 2, 0, 3, 1, 0, 1, 1, 0, 0, 8]\n",
      "number of times each character appears in the text :  [1, 0, 0, 0, 1, 0, 0, 0, 0, 0, 0, 1, 0, 0, 0, 2, 0, 0, 0, 0, 0, 0, 0, 0, 0, 0, 0]\n"
     ]
    }
   ],
   "source": [
    "def frequencies(text):\n",
    "    letters = 'abcdefghijklmnopqrstuvwxyz '\n",
    "    frequency = [0] * len(letters)\n",
    "    letter_to_index = {}\n",
    "    for i in range(len(letters)):\n",
    "        letter = letters[i]\n",
    "        letter_to_index[letter] = i\n",
    "    for char in text:\n",
    "        char = char.lower()\n",
    "        if char in letter_to_index:\n",
    "            index = letter_to_index[char]\n",
    "            frequency[index] += 1\n",
    "    \n",
    "    return frequency\n",
    "print(\" number of times each character appears in the text : \",frequencies('The quick red fox got bored and went home.'))\n",
    "print(\"number of times each character appears in the text : \",frequencies('apple'))\n"
   ]
  }
 ],
 "metadata": {
  "kernelspec": {
   "display_name": "Python 3 (ipykernel)",
   "language": "python",
   "name": "python3"
  },
  "language_info": {
   "codemirror_mode": {
    "name": "ipython",
    "version": 3
   },
   "file_extension": ".py",
   "mimetype": "text/x-python",
   "name": "python",
   "nbconvert_exporter": "python",
   "pygments_lexer": "ipython3",
   "version": "3.10.9"
  }
 },
 "nbformat": 4,
 "nbformat_minor": 5
}
